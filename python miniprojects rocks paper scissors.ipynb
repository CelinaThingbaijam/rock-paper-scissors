{
 "cells": [
  {
   "cell_type": "markdown",
   "id": "46f4f5de",
   "metadata": {},
   "source": [
    "# Rock Paper Scissors"
   ]
  },
  {
   "cell_type": "code",
   "execution_count": 5,
   "id": "278f2ec7",
   "metadata": {},
   "outputs": [],
   "source": [
    "import random "
   ]
  },
  {
   "cell_type": "code",
   "execution_count": 6,
   "id": "f285ee68",
   "metadata": {},
   "outputs": [],
   "source": [
    "user_win = 0\n",
    "computer_win =0\n",
    "options = [\"rock\",\"paper\",\"scissors\"]"
   ]
  },
  {
   "cell_type": "code",
   "execution_count": 7,
   "id": "bd40f38c",
   "metadata": {},
   "outputs": [
    {
     "name": "stdout",
     "output_type": "stream",
     "text": [
      "Type Rock/Paper/Scissors or Q to quit: PAPER\n",
      "Computer picked scissors.\n",
      "You Lost\n",
      "Type Rock/Paper/Scissors or Q to quit: ROCK\n",
      "Computer picked rock.\n",
      "You Lost\n",
      "Type Rock/Paper/Scissors or Q to quit: PAPER\n",
      "Computer picked scissors.\n",
      "You Lost\n",
      "Type Rock/Paper/Scissors or Q to quit: SCISSORS\n",
      "Computer picked paper.\n",
      "You Win\n",
      "Type Rock/Paper/Scissors or Q to quit: ROCK\n",
      "Computer picked paper.\n",
      "You Lost\n",
      "Type Rock/Paper/Scissors or Q to quit: ROCK\n",
      "Computer picked scissors.\n",
      "You win\n",
      "Type Rock/Paper/Scissors or Q to quit: SCISSORS\n",
      "Computer picked paper.\n",
      "You Win\n",
      "Type Rock/Paper/Scissors or Q to quit: SCISSORS\n",
      "Computer picked scissors.\n",
      "You Lost\n",
      "Type Rock/Paper/Scissors or Q to quit: Q\n",
      "You Win 3 times.\n",
      "The Computer win 5 times.\n",
      "Good Bye! \n"
     ]
    }
   ],
   "source": [
    "while True:\n",
    "    user_input = input(\"Type Rock/Paper/Scissors or Q to quit: \").lower()\n",
    "    if user_input == \"q\":\n",
    "        break\n",
    "    if user_input not in options:\n",
    "        continue\n",
    "        \n",
    "    random_number = random.randint(0,2)\n",
    "    # rock : 0,paper : 1,scissors: 2\n",
    "    computer_pick = options[random_number]\n",
    "    print(\"Computer picked\",computer_pick + \".\")\n",
    "    \n",
    "    if user_input == \"rock\" and computer_pick == \"scissors\":\n",
    "        print(\"You win\")\n",
    "        user_win += 1\n",
    "        \n",
    "    elif user_input == \"paper\" and computer_pick == \"rock\":\n",
    "        print(\"You Win\")\n",
    "        user_win += 1\n",
    "    elif user_input == \"scissors\" and computer_pick == \"paper\":\n",
    "        print(\"You Win\")\n",
    "        user_win += 1\n",
    "    else:\n",
    "        print(\"You Lost\")\n",
    "        computer_win += 1\n",
    "        \n",
    "print(\"You Win\",user_win,\"times.\")\n",
    "print(\"The Computer win\",computer_win,\"times.\")\n",
    "print(\"Good Bye! \")\n",
    "        \n",
    "    "
   ]
  },
  {
   "cell_type": "code",
   "execution_count": null,
   "id": "77fee4c9",
   "metadata": {},
   "outputs": [],
   "source": []
  },
  {
   "cell_type": "code",
   "execution_count": null,
   "id": "700554b3",
   "metadata": {},
   "outputs": [],
   "source": []
  }
 ],
 "metadata": {
  "kernelspec": {
   "display_name": "Python 3 (ipykernel)",
   "language": "python",
   "name": "python3"
  },
  "language_info": {
   "codemirror_mode": {
    "name": "ipython",
    "version": 3
   },
   "file_extension": ".py",
   "mimetype": "text/x-python",
   "name": "python",
   "nbconvert_exporter": "python",
   "pygments_lexer": "ipython3",
   "version": "3.9.12"
  }
 },
 "nbformat": 4,
 "nbformat_minor": 5
}
